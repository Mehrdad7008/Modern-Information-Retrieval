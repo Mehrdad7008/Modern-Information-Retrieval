{
  "nbformat": 4,
  "nbformat_minor": 0,
  "metadata": {
    "colab": {
      "name": "96102523.ipynb",
      "provenance": [],
      "collapsed_sections": []
    },
    "kernelspec": {
      "name": "python3",
      "display_name": "Python 3"
    },
    "language_info": {
      "name": "python"
    }
  },
  "cells": [
    {
      "cell_type": "code",
      "metadata": {
        "colab": {
          "base_uri": "https://localhost:8080/"
        },
        "id": "BmFyuj5O_OC9",
        "outputId": "ff9a9b76-470b-4c21-efcc-ee541b134282"
      },
      "source": [
        "!apt install chromium-chromedriver\n",
        "!pip install selenium"
      ],
      "execution_count": 1,
      "outputs": [
        {
          "output_type": "stream",
          "text": [
            "Reading package lists... Done\n",
            "Building dependency tree       \n",
            "Reading state information... Done\n",
            "The following additional packages will be installed:\n",
            "  chromium-browser chromium-browser-l10n chromium-codecs-ffmpeg-extra\n",
            "Suggested packages:\n",
            "  webaccounts-chromium-extension unity-chromium-extension\n",
            "The following NEW packages will be installed:\n",
            "  chromium-browser chromium-browser-l10n chromium-chromedriver\n",
            "  chromium-codecs-ffmpeg-extra\n",
            "0 upgraded, 4 newly installed, 0 to remove and 39 not upgraded.\n",
            "Need to get 86.0 MB of archives.\n",
            "After this operation, 298 MB of additional disk space will be used.\n",
            "Get:1 http://archive.ubuntu.com/ubuntu bionic-updates/universe amd64 chromium-codecs-ffmpeg-extra amd64 91.0.4472.101-0ubuntu0.18.04.1 [1,124 kB]\n",
            "Get:2 http://archive.ubuntu.com/ubuntu bionic-updates/universe amd64 chromium-browser amd64 91.0.4472.101-0ubuntu0.18.04.1 [76.1 MB]\n",
            "Get:3 http://archive.ubuntu.com/ubuntu bionic-updates/universe amd64 chromium-browser-l10n all 91.0.4472.101-0ubuntu0.18.04.1 [3,937 kB]\n",
            "Get:4 http://archive.ubuntu.com/ubuntu bionic-updates/universe amd64 chromium-chromedriver amd64 91.0.4472.101-0ubuntu0.18.04.1 [4,837 kB]\n",
            "Fetched 86.0 MB in 9s (9,108 kB/s)\n",
            "Selecting previously unselected package chromium-codecs-ffmpeg-extra.\n",
            "(Reading database ... 160772 files and directories currently installed.)\n",
            "Preparing to unpack .../chromium-codecs-ffmpeg-extra_91.0.4472.101-0ubuntu0.18.04.1_amd64.deb ...\n",
            "Unpacking chromium-codecs-ffmpeg-extra (91.0.4472.101-0ubuntu0.18.04.1) ...\n",
            "Selecting previously unselected package chromium-browser.\n",
            "Preparing to unpack .../chromium-browser_91.0.4472.101-0ubuntu0.18.04.1_amd64.deb ...\n",
            "Unpacking chromium-browser (91.0.4472.101-0ubuntu0.18.04.1) ...\n",
            "Selecting previously unselected package chromium-browser-l10n.\n",
            "Preparing to unpack .../chromium-browser-l10n_91.0.4472.101-0ubuntu0.18.04.1_all.deb ...\n",
            "Unpacking chromium-browser-l10n (91.0.4472.101-0ubuntu0.18.04.1) ...\n",
            "Selecting previously unselected package chromium-chromedriver.\n",
            "Preparing to unpack .../chromium-chromedriver_91.0.4472.101-0ubuntu0.18.04.1_amd64.deb ...\n",
            "Unpacking chromium-chromedriver (91.0.4472.101-0ubuntu0.18.04.1) ...\n",
            "Setting up chromium-codecs-ffmpeg-extra (91.0.4472.101-0ubuntu0.18.04.1) ...\n",
            "Setting up chromium-browser (91.0.4472.101-0ubuntu0.18.04.1) ...\n",
            "update-alternatives: using /usr/bin/chromium-browser to provide /usr/bin/x-www-browser (x-www-browser) in auto mode\n",
            "update-alternatives: using /usr/bin/chromium-browser to provide /usr/bin/gnome-www-browser (gnome-www-browser) in auto mode\n",
            "Setting up chromium-chromedriver (91.0.4472.101-0ubuntu0.18.04.1) ...\n",
            "Setting up chromium-browser-l10n (91.0.4472.101-0ubuntu0.18.04.1) ...\n",
            "Processing triggers for man-db (2.8.3-2ubuntu0.1) ...\n",
            "Processing triggers for hicolor-icon-theme (0.17-2) ...\n",
            "Processing triggers for mime-support (3.60ubuntu1) ...\n",
            "Processing triggers for libc-bin (2.27-3ubuntu1.2) ...\n",
            "/sbin/ldconfig.real: /usr/local/lib/python3.7/dist-packages/ideep4py/lib/libmkldnn.so.0 is not a symbolic link\n",
            "\n",
            "Collecting selenium\n",
            "\u001b[?25l  Downloading https://files.pythonhosted.org/packages/80/d6/4294f0b4bce4de0abf13e17190289f9d0613b0a44e5dd6a7f5ca98459853/selenium-3.141.0-py2.py3-none-any.whl (904kB)\n",
            "\u001b[K     |████████████████████████████████| 911kB 4.1MB/s \n",
            "\u001b[?25hRequirement already satisfied: urllib3 in /usr/local/lib/python3.7/dist-packages (from selenium) (1.24.3)\n",
            "Installing collected packages: selenium\n",
            "Successfully installed selenium-3.141.0\n"
          ],
          "name": "stdout"
        }
      ]
    },
    {
      "cell_type": "code",
      "metadata": {
        "id": "WG4sWSri_0xl"
      },
      "source": [
        "import json\n",
        "import pandas as pd\n"
      ],
      "execution_count": 2,
      "outputs": []
    },
    {
      "cell_type": "code",
      "metadata": {
        "id": "QJ1naoDu_4Lq"
      },
      "source": [
        "from selenium.webdriver.common.action_chains import ActionChains\n",
        "from selenium.webdriver.common.by import By\n",
        "from selenium.webdriver.support.ui import WebDriverWait\n",
        "from selenium.webdriver.support import expected_conditions as EC\n",
        "from urllib.parse import MAX_CACHE_SIZE\n",
        "from selenium import webdriver\n",
        "from selenium.webdriver import common\n",
        "from selenium.webdriver.common.keys import Keys\n",
        "from selenium.webdriver.support.ui import WebDriverWait\n",
        "from selenium import webdriver\n",
        "from selenium.webdriver.chrome.options import Options"
      ],
      "execution_count": 4,
      "outputs": []
    },
    {
      "cell_type": "code",
      "metadata": {
        "id": "-MyOacK5AMc1"
      },
      "source": [
        "def init():\n",
        "  chrome_options = Options()\n",
        "  chrome_options.add_argument('--headless')\n",
        "  chrome_options.add_argument('--no-sandbox')\n",
        "  chrome_options.add_argument('--disable-dev-shm-usage')\n",
        "  chrome_options.add_argument('--user-agent=\"Mozilla/5.0 (Macintosh; Intel Mac OS X 10_15_3) ' + 'AppleWebKit/537.36 (KHTML, like Gecko) Chrome/88.0.4324.96 Safari/537.36\"')\n",
        "  driver = webdriver.Chrome(chrome_options=chrome_options)\n",
        "  return driver"
      ],
      "execution_count": 5,
      "outputs": []
    },
    {
      "cell_type": "code",
      "metadata": {
        "id": "kaB6NqKZ_jj5"
      },
      "source": [
        "file_name = 'CrawledPapers.json'\n",
        "link = 'https://academic.microsoft.com/paper/'\n",
        "start = open('start.txt')\n",
        "llist = []\n",
        "\n",
        "for i in range(len(start)):\n",
        "    x = start(i)\n",
        "    llist.append(x[:len(x)-1].split('/')[4])\n",
        "\n",
        "def crawl(visited, save_result):\n",
        "\n",
        "    vistied_copy= visited.copy()\n",
        "    file_name= save_result\n",
        "    with open(file_name, \"w\") as fi: fi.write('[')\n",
        "    counter = 0\n",
        "\n",
        "    for i in range(100000):\n",
        "        try:\n",
        "            if(counter>=2000):\n",
        "              break\n",
        "            driver = init()\n",
        "            id = vistied_copy.pop(0)\n",
        "            print(id)\n",
        "            url = link + id\n",
        "            driver.get(url)\n",
        "            print(url)\n",
        "            driver.implicitly_wait(1000)\n",
        "            X = driver.find_element_by_xpath('//*[@id=\"mainArea\"]/router-view/div/div/div/div/h1')\n",
        "            \n",
        "            title = X.text \n",
        "\n",
        "            driver.implicitly_wait(1000)\n",
        "            x = driver.find_element_by_xpath('//*[@id=\"mainArea\"]/router-view/div/div/div/div/p')\n",
        "            abstract = X.text\n",
        "\n",
        "            driver.implicitly_wait(1000)\n",
        "            RE = driver.find_elements_by_xpath('//ma-card/div/compose/div/div[1]/a[1]')\n",
        "\n",
        "           \n",
        "            driver.implicitly_wait(1000)\n",
        "            year = driver.find_element_by_xpath('//*[@id=\"mainArea\"]/router-view/div/div/div/div/a/span[1]').text\n",
        "\n",
        "            driver.implicitly_wait(1000)\n",
        "            authors = driver.find_elements_by_xpath('//*[@id=\"mainArea\"]/router-view/div/div/div/div/ma-author-string-collection/div/div/div/a[1]')\n",
        "\n",
        "            driver.implicitly_wait(1000)\n",
        "            RE_topics = driver.find_elements_by_xpath('//*[@id]/a/div[2]')\n",
        "\n",
        "            driver.implicitly_wait(1000)\n",
        "            x = driver.find_element_by_xpath('//*[@id=\"mainArea\"]/router-view/div/div/div/div/div[1]/ma-statistics-item[2]/div[2]/div[2]/div[1]')\n",
        "            cc = X.text\n",
        "\n",
        "            driver.implicitly_wait(1000)\n",
        "            x = driver.find_element_by_xpath('//*[@id=\"mainArea\"]/router-view/div/div/div/div/div[1]/ma-statistics-item[1]/div[2]/div[2]/div[1]')\n",
        "            r_num= X.text\n",
        "            print(title)\n",
        "        except:\n",
        "          print(\"ERROR 1\")\n",
        "          counter -= 1\n",
        "          continue\n",
        "\n",
        "        R_id = []\n",
        "        author_id = []\n",
        "        topics_id = []\n",
        "        for i in range(0, 10):\n",
        "            try:\n",
        "                if r_num <= i:\n",
        "                    break\n",
        "                next = RE[i]\n",
        "                RE_n = next.get_attribute('href')\n",
        "                id = RE_n.split('/')[-2]\n",
        "                R_id.append(id)\n",
        "                author = authors[i]\n",
        "                author_name = author.get_attribute('aria-label')\n",
        "                author_id.append(author_name)\n",
        "                RE_topic = RE_topics[i]\n",
        "                topic = RE_topic.text\n",
        "                topics_id.append(topic)\n",
        "                if id not in v_id: \n",
        "                  visited.append(id)\n",
        "                  vistied_copy.append(id) \n",
        "            except:\n",
        "                print(\"ERROR 2\")\n",
        "                break      \n",
        "        zw = {\"id\": id,  \"title\": title,\"abstract\": abstract,\"date\": year,\"authors\": author_id,\"related_topics\": topics_id,\"citation_count\": cc,\"reference_count\": r_num,\"references\": R_id}\n",
        "        with open(file_name, \"a+\") as fi:\n",
        "                json.dump(zw, fi, indent=4)\n",
        "                if counter == 1999:\n",
        "                    fi.write(']')\n",
        "                else:\n",
        "                    fi.write(',')\n",
        "        counter += 1\n",
        "\n",
        "       \n",
        "        \n"
      ],
      "execution_count": null,
      "outputs": []
    }
  ]
}