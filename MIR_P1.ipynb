{
  "nbformat": 4,
  "nbformat_minor": 0,
  "metadata": {
    "colab": {
      "name": "MIR-P1.ipynb",
      "provenance": [],
      "collapsed_sections": []
    },
    "kernelspec": {
      "display_name": "Python 3",
      "language": "python",
      "name": "python3"
    },
    "language_info": {
      "codemirror_mode": {
        "name": "ipython",
        "version": 3
      },
      "file_extension": ".py",
      "mimetype": "text/x-python",
      "name": "python",
      "nbconvert_exporter": "python",
      "pygments_lexer": "ipython3",
      "version": "3.8.5"
    }
  },
  "cells": [
    {
      "cell_type": "markdown",
      "metadata": {
        "id": "-b2UsRU4P9JF"
      },
      "source": [
        "<div style=\"direction:rtl;line-height:300%;\">\n",
        "<font face=\"XB Zar\" size=5>\n",
        "<div align=center>\n",
        "<font face=\"B Titr\" size=5>\n",
        "<p></p><p></p>\n",
        "بسمه تعالی\n",
        "<p></p>\n",
        "</font>\n",
        "<p></p>\n",
        "<font>\n",
        "<br>\n",
        "درس بازیابی پیشرفته اطلاعات\n",
        "<br>\n",
        "مدرس: دکتر سلیمانی\n",
        "</font>\n",
        "<p></p>\n",
        "<br>\n",
        "<font>\n",
        "<b>فاز اول پروژه</b>\n",
        "</font>\n",
        "<br>\n",
        "<br>\n",
        "موعد تحویل: ۲۸ اسفند ۱۳۹۹\n",
        "<br>\n",
        "<br>\n",
        "<font size=4.8>\n",
        "دستیاران آموزشی: نیما جمالی، آرمین سعادت، ایمان غلامی\n",
        "</font>\n",
        "<br>\n",
        "<br>\n",
        "<br>\n",
        "<font>\n",
        "دانشگاه صنعتی شریف\n",
        "<br>\n",
        "دانشکده مهندسی کامپیوتر\n",
        "<br>\n",
        "<br>\n",
        "</font>\n",
        "</div>\n",
        "</font>\n",
        "</div>"
      ]
    },
    {
      "cell_type": "markdown",
      "metadata": {
        "id": "y3YoNVsQR3zO"
      },
      "source": [
        "<p></p>\n",
        "<div dir=\"rtl\">\n",
        "<font face=\"XB Zar\" size=4>\n",
        "    <h1>\n",
        "    <b>مقدمه</b>\n",
        "    </h1>\n",
        "    <p></p>\n",
        "    <p></p>\n",
        "    هدف از فاز اول پروژه، طراحی و پیاده‌سازی سیستم بازیابی اطلاعات برای مجموعه دادگان تعیین شده می‌باشد.<br>\n",
        "    اولین مرحله، پیش‌پردازش مجموعه دادگان است. پس از آن نمایه‌ها با ویژگی‌های خواسته شده پیاده‌سازی می‌شود. در گام بعدی به ذخیره و بازخوانی نمایه‌ها به همراه روش‌های فشرده‌سازی پرداخته می‌شود. پس از آن تکنیک‌های اصلاح پرسمان پیاده‌سازی شده و در نهایت جستجو روی دادگان صورت می‌گیرد. همچنین در بخش آخر با پیاده‌سازی برخی معیارهای ارزیابی، عملکرد سیستم مورد سنجش قرار می‌گیرد.<br><br>\n",
        "     توضیحات مربوط به هر بخش در ادامه آمده است که اهداف، محدودیت‌ها و خواسته‌های آن بخش را مشخص می‌کند.\n",
        "     در هر بخش توابعی مشخص شده است که محتوای آن با کد نوشته شده توسط شما باید پر شود. شما می‌توانید در همین فایل، سیستم بازیابی خود را پیاده‌سازی کنید یا فایل‌های خودتان را ایمپورت کرده و از آن‌ها استفاده کنید. در هر صورت تمامی کدهای لازم را به همراه این نوت‌بوک ارسال کنید. همچنین در نظر داشته باشید که ملاک اصلی نمره‌دهی شما اجرای صحیح توابع مشخص‌شده در این نوت‌بوک می‌باشد. بنابراین از صحت اجرای نوت‌بوک خود اطمینان پیدا کنید.<br><br>\n",
        "     تنها زبان قابل قبول برای پروژه پایتون است. محدودیت استفاده از کتاب‌خانه‌های آماده در هر بخش مشخص شده است. پروژه ۱۱۵ نمره دارد که ۱۵ نمره از آن امتیازی و مربوط به بخش اصلاح پرسمان می‌باشد.\n",
        "    \n",
        "    \n",
        "</font>\n",
        "</div>\n",
        "<p></p>"
      ]
    },
    {
      "cell_type": "markdown",
      "metadata": {
        "id": "jaR5CS_khMQB"
      },
      "source": [
        "<div dir=\"rtl\">\n",
        "<font face=\"XB Zar\" size=4>\n",
        "    <h1>\n",
        "    <b>مجموعه دادگان</b>\n",
        "    </h1>\n",
        "    مجموعه دادگان مورد بررسی در این پروژه از سایت kaggle فراهم شده است. این مجموعه شامل اطلاعات ۶۰۰۰ فیلم سینمایی از سال ۱۹۰۴ تا ۲۰۱۷ است. داده‌ها در قالب فایل csv   دارای ستون‌‌های plot، title، id می‌باشد. id یک شناسه یکتا برای هر فیلم است که برای ارزیابی بهتر عملکرد شما به داده‌ها اضافه شده است و در مجموعه دادگان اصلی وجود نداشته است. همانطور که می‌دانید برای پیاده‌سازی نمایه باید به هر داکیومنت یک شناسه اختصاص بدهید. <b>شناسه مربوط به هر داکیومنت باید id ذکر شده برای آن در مجموعه دادگان باشد.</b> هر فیلم از دو بخش title و plot  تشکیل شده است که از این دو بخش در ساخت نمایه و جستجو استفاده می‌شود. plot خلاصه‌ای از طرح داستان فیلم است.<br>\n",
        "    علاوه بر مجموعه دادگان اصلی، تعدای پرسمان در اختیار شما قرار گرفته است. همچنین جواب مطلوب هر یک از این پرسمان‌ها نیز فراهم شده که طبیعتا زیرمجموعه‌ای از مجموعه دادگان است. شما باید از این پرسمان‌ها و نتیجه مورد انتظار هر کدام برای ارزیابی سامانه خود استفاده کنید.\n",
        "    پرسمان‌ها و شناسه فیلم‌های بازیابی شده مورد انتظار از هر پرسمان در فایل validation.json آمده است. توضیحات بیشتر در رابطه با استفاده از این فایل در بخش ارزیابی آمده است.\n",
        "</font>\n",
        "</div>"
      ]
    },
    {
      "cell_type": "markdown",
      "metadata": {
        "id": "PxNntHofmHHH"
      },
      "source": [
        "<div dir=\"rtl\">\n",
        "<font face=\"XB Zar\" size=4>\n",
        "    <h1>\n",
        "    <b>پیش‌پردازش و آماده‌سازی داده‌ها (۱۵ نمره)</b>\n",
        "    </h1>\n",
        "    در این بخش ابتدا داده‌ها را از فایل بخوانید. برای آماده‌سازی متن می‌توانید از کتاب‌خانه‌های آماده استفاده کنید. یکی از کتاب‌خانه‌های معروف برای این کار <a href=\"https://www.nltk.org/\">NLTK</a> است اما در انتخاب روش پیاده‌سازی این بخش مختارید. برای این بخش باید تابع ()prepare_text را تکمیل کنید. این تابع یک متن انگلیسی ورودی گرفته و توکن‌‌های مربوط به آن‌را در قالب یک لیست خروجی می‌دهد. متن ورودی در عمل تایتل یا طرح داستان هر فیلم است. دقت کنید که لیست خروجی شامل تعدادی توکن است که عملیات case folding، stemming و lemmatization روی آن‌ها اجرا شده است. در ضمن علائم نگارشی نباید به عنوان توکن در نظر گرفته شود. در کد زیر یک نمونه ورودی و خروجی نمایش داده شده است. با توجه به نحوه پیاده‌سازی انواع بازگردانی به ریشه قابل قبول است.\n",
        "</font>\n",
        "</div>"
      ]
    },
    {
      "cell_type": "code",
      "metadata": {
        "colab": {
          "base_uri": "https://localhost:8080/"
        },
        "id": "NDR49XMnvpnC",
        "outputId": "8af62cc1-1d4c-49af-9908-2b12baca46d0"
      },
      "source": [
        "import nltk\n",
        "nltk.download('punkt')\n",
        "nltk.download(\"wordnet\")"
      ],
      "execution_count": 13,
      "outputs": [
        {
          "output_type": "stream",
          "text": [
            "[nltk_data] Downloading package punkt to /root/nltk_data...\n",
            "[nltk_data]   Unzipping tokenizers/punkt.zip.\n",
            "[nltk_data] Downloading package wordnet to /root/nltk_data...\n",
            "[nltk_data]   Unzipping corpora/wordnet.zip.\n"
          ],
          "name": "stdout"
        },
        {
          "output_type": "execute_result",
          "data": {
            "text/plain": [
              "True"
            ]
          },
          "metadata": {
            "tags": []
          },
          "execution_count": 13
        }
      ]
    },
    {
      "cell_type": "code",
      "metadata": {
        "colab": {
          "resources": {
            "http://localhost:8080/nbextensions/google.colab/files.js": {
              "data": "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",
              "ok": true,
              "headers": [
                [
                  "content-type",
                  "application/javascript"
                ]
              ],
              "status": 200,
              "status_text": ""
            }
          },
          "base_uri": "https://localhost:8080/",
          "height": 74
        },
        "id": "PiWBcuITwJMf",
        "outputId": "656995ab-1294-49e2-b278-308c8a086906"
      },
      "source": [
        "from google.colab import files\n",
        "uploaded = files.upload()"
      ],
      "execution_count": 14,
      "outputs": [
        {
          "output_type": "display_data",
          "data": {
            "text/html": [
              "\n",
              "     <input type=\"file\" id=\"files-6c919ea9-6c41-4b53-8852-79e2a44fc0f3\" name=\"files[]\" multiple disabled\n",
              "        style=\"border:none\" />\n",
              "     <output id=\"result-6c919ea9-6c41-4b53-8852-79e2a44fc0f3\">\n",
              "      Upload widget is only available when the cell has been executed in the\n",
              "      current browser session. Please rerun this cell to enable.\n",
              "      </output>\n",
              "      <script src=\"/nbextensions/google.colab/files.js\"></script> "
            ],
            "text/plain": [
              "<IPython.core.display.HTML object>"
            ]
          },
          "metadata": {
            "tags": []
          }
        },
        {
          "output_type": "stream",
          "text": [
            "Saving movies.csv to movies.csv\n"
          ],
          "name": "stdout"
        }
      ]
    },
    {
      "cell_type": "code",
      "metadata": {
        "colab": {
          "base_uri": "https://localhost:8080/"
        },
        "id": "9aa16Puk-if0",
        "outputId": "1fd4e2b8-92c4-49dd-902e-e095bc97036c"
      },
      "source": [
        "def prepare_text(raw_text):\n",
        "    from nltk.stem import PorterStemmer \n",
        "    from nltk.stem import WordNetLemmatizer \n",
        "    wl = WordNetLemmatizer() \n",
        "    ps = PorterStemmer()\n",
        "    punc = '''!()-[]{};:'\"\\, <>./?@#$%^&*_~'''\n",
        "    tobe = [\"am\", \"is\", \"are\", \"was\", \"were\", \"been\", \"being\"]\n",
        "    helpSentence = 'awf: \"the\"'\n",
        "    helpTokens = nltk.word_tokenize(helpSentence)\n",
        "    calon = helpTokens[2]\n",
        "    removings = []\n",
        "\n",
        "    sentence = raw_text\n",
        "    tokens = nltk.word_tokenize(sentence)\n",
        "\n",
        "    #Removing puncs\n",
        "    for X in tokens:\n",
        "        if(X in punc):\n",
        "            removings.append(X)        \n",
        "    for X in removings:\n",
        "        tokens.remove(X)\n",
        "    for X in removings:\n",
        "        removings.remove(X)\n",
        "    removings.clear()\n",
        "\n",
        "    #Removing Puncs 2\n",
        "    for X in tokens:\n",
        "        if((X[-1] in punc) or (X == calon)):\n",
        "            Y = X.replace(X[-1], '')\n",
        "            if(Y==''):\n",
        "                removings.append(X)\n",
        "            else:\n",
        "                #tokens.replace(X, Y)\n",
        "                index = tokens.index(X)\n",
        "                #print(index)\n",
        "                tokens[index] = Y\n",
        "                #print(X)\n",
        "        if(X[0]=='\\''):\n",
        "            removings.append(X)\n",
        "    for X in removings:\n",
        "        if X in tokens:\n",
        "            tokens.remove(X)\n",
        "    for X in removings:\n",
        "        if X in removings:\n",
        "            removings.remove(X)\n",
        "\n",
        "    #Case_Folding, Lemmatizing, Stemming\n",
        "    for index in range(len(tokens)):\n",
        "        tokens[index]= tokens[index].lower()\n",
        "        if(tokens[index] in tobe):\n",
        "            tokens[index]= \"be\"\n",
        "        else:\n",
        "            tokens[index]= wl.lemmatize(tokens[index])\n",
        "        tokens[index]= ps.stem(tokens[index])\n",
        "    \n",
        "    return tokens\n",
        "\n",
        "prepare_text(\"Edvard was a Runner. He was always running.\")"
      ],
      "execution_count": 15,
      "outputs": [
        {
          "output_type": "execute_result",
          "data": {
            "text/plain": [
              "['edvard', 'be', 'a', 'runner', 'he', 'be', 'alway', 'run']"
            ]
          },
          "metadata": {
            "tags": []
          },
          "execution_count": 15
        }
      ]
    },
    {
      "cell_type": "markdown",
      "metadata": {
        "id": "WVhVEO6VARIa"
      },
      "source": [
        "<div dir=\"rtl\">\n",
        "<font face=\"XB Zar\" size=4>\n",
        "    <h1>\n",
        "    <b>شناسایی و حذف stop-words (۵ نمره)</b>\n",
        "    </h1>\n",
        "    این بخش باید توسط خودتان و بدون استفاده از کد آماده پیاده‌سازی شود. ترم‌های موجود در مجموعه دادگان را بر اساس تکرار آن‌ها مرتب کرده و پرتکرارترین آن‌ها را به عنوان stop-words در نظر بگیرید. اینکه چند ترم را به عنوان stop-words در نظر بگیرید به عهده خودتان است.<br>\n",
        "    با فراخوانی تابع ()get_stop_words لیست stop-words به همراه تعداد تکرار آن‌‌ها خروجی داده می‌شود.<br>\n",
        "    ترم‌های به دست آمده از این بخش نباید در نمایه حضور داشته باشند.\n",
        "</font>\n",
        "</div>"
      ]
    },
    {
      "cell_type": "code",
      "metadata": {
        "colab": {
          "base_uri": "https://localhost:8080/"
        },
        "id": "B-0YxOUeBGDY",
        "outputId": "20796e28-8cbc-4b2b-f403-5fb1bfd32dcc"
      },
      "source": [
        "import csv\n",
        "def get_stop_words(file):\n",
        "\n",
        "    filename = file\n",
        "    words = {}\n",
        "    \n",
        "    fields = []\n",
        "    rows = []\n",
        "    stop_words = {}\n",
        "    \n",
        "    with open(filename, 'r') as csvfile:\n",
        "        csvreader = csv.reader(csvfile)\n",
        "        fields = next(csvreader)\n",
        "        for row in csvreader:\n",
        "            rows.append(row)\n",
        "    for row in rows[:1000]:\n",
        "        title_text = prepare_text(row[1])\n",
        "        plot_text = prepare_text(row[2])\n",
        "        for word in title_text:\n",
        "            if(word in words):\n",
        "                words[word] = words[word] + 1\n",
        "            else:\n",
        "                words[word] = 1\n",
        "        for word in plot_text:\n",
        "            if(word in words):\n",
        "                words[word] = words[word] + 1\n",
        "            else:\n",
        "                words[word] = 1\n",
        "    for i in range(15):\n",
        "        max_key = max(words, key=words.get)\n",
        "        \n",
        "        stop_words[max_key] = words[max_key]\n",
        "        words[max_key] = 0\n",
        "\n",
        "    return stop_words\n",
        "get_stop_words(\"movies.csv\")"
      ],
      "execution_count": 136,
      "outputs": [
        {
          "output_type": "execute_result",
          "data": {
            "text/plain": [
              "{'a': 8509,\n",
              " 'and': 7688,\n",
              " 'be': 7396,\n",
              " 'for': 1910,\n",
              " 'he': 3918,\n",
              " 'her': 3637,\n",
              " 'hi': 4027,\n",
              " 'him': 2006,\n",
              " 'in': 4056,\n",
              " 'of': 4323,\n",
              " 'she': 2387,\n",
              " 'that': 2510,\n",
              " 'the': 13821,\n",
              " 'to': 9485,\n",
              " 'with': 2490}"
            ]
          },
          "metadata": {
            "tags": []
          },
          "execution_count": 136
        }
      ]
    },
    {
      "cell_type": "markdown",
      "metadata": {
        "id": "A4Z02BzNHD1z"
      },
      "source": [
        "<div dir=\"rtl\">\n",
        "<font face=\"XB Zar\" size=4>\n",
        "    <h1>\n",
        "    <b>نمایه‌سازی (۱۵ نمره)</b>\n",
        "    </h1>\n",
        "    در این بخش باید برای سامانه positional index بسازید. برای هر ترم باید مشخص باشد که آن ترم در تایتل چه فیلم‌هایی و در چه جایگاهی از تایتل هر فیلم قرار گرفته است. همچنین برای هر ترم باید مشخص باشد که آن ترم در طرح داستان چه فیلم‌هایی و در چه جایگاهی از طرح داستان هر فیلم قرار گرفته است.<br>\n",
        "     برای ارزیابی بهتر و عادلانه‌تر به ویژه برای ارزیابی بخش فشرده‌سازی، از استاندارد بیان شده در قطعه کد زیر برای ذخیره posting list هر ترم در RAM استفاده کنید.\n",
        "</font>\n",
        "</div>"
      ]
    },
    {
      "cell_type": "code",
      "metadata": {
        "id": "ALJy_D85lZBt"
      },
      "source": [
        "# importing csv module\n",
        "\n",
        "import csv\n",
        "def create_positional_index(file):\n",
        "    \n",
        "    filename = file\n",
        "    positional_index = {}\n",
        "    \n",
        "    fields = []\n",
        "    rows = []\n",
        "    \n",
        "    with open(filename, 'r') as csvfile:\n",
        "        csvreader = csv.reader(csvfile)\n",
        "        fields = next(csvreader)\n",
        "        for row in csvreader:\n",
        "            rows.append(row)\n",
        "\n",
        "    for j in range(len(rows)):\n",
        "        row = rows[j]\n",
        "        movie_id = int(row[0])\n",
        "        title_text = prepare_text(row[1])\n",
        "        plot_text = prepare_text(row[2])\n",
        "        for i in range(len(title_text)):\n",
        "            word = title_text[i]\n",
        "            if(word in positional_index):\n",
        "                if(positional_index[word][0][-1][0]!=movie_id):\n",
        "                    if(positional_index[word][0][-1][0]==None):\n",
        "                        positional_index[word][0][-1] = [movie_id, [i]]\n",
        "                    else:\n",
        "                        positional_index[word][0].append([movie_id, [i]])\n",
        "                else:\n",
        "                    positional_index[word][0][-1][1].append(i)\n",
        "            else:\n",
        "                positional_index[word] = [[], []]\n",
        "                positional_index[word][0].append([movie_id, [i]])\n",
        "                positional_index[word][1].append([None, []])  \n",
        "        for i in range(len(plot_text)):\n",
        "            word = plot_text[i]\n",
        "            if(word in positional_index):\n",
        "                if(positional_index[word][1][-1][0]!=movie_id):\n",
        "                    if(positional_index[word][1][-1][0]==None):\n",
        "                        positional_index[word][1][-1] = [movie_id, [i]]\n",
        "                    else:\n",
        "                        positional_index[word][1].append([movie_id, [i]])\n",
        "                else:\n",
        "                    positional_index[word][1][-1][1].append(i)\n",
        "            else:\n",
        "                positional_index[word] = [[], []]\n",
        "                positional_index[word][1].append([movie_id, [i]])\n",
        "                positional_index[word][0].append([None, []])  \n",
        "    return positional_index\n",
        "\n",
        "positional_index = create_positional_index(\"movies.csv\")"
      ],
      "execution_count": 17,
      "outputs": []
    },
    {
      "cell_type": "code",
      "metadata": {
        "colab": {
          "base_uri": "https://localhost:8080/"
        },
        "id": "3YgsAtFlynlu",
        "outputId": "ca088baa-4ded-4165-f7ec-30850ee96cbb"
      },
      "source": [
        "print(positional_index[\"the\"][0][-2])\n",
        "print(positional_index[\"the\"][1][-2])"
      ],
      "execution_count": 18,
      "outputs": [
        {
          "output_type": "stream",
          "text": [
            "[5998, [0]]\n",
            "[5999, [12, 29, 49, 109, 114, 145, 149, 152, 160, 174, 183, 200, 215, 224, 273, 278, 286, 294]]\n"
          ],
          "name": "stdout"
        }
      ]
    },
    {
      "cell_type": "markdown",
      "metadata": {
        "id": "voqMrk4rg1qk"
      },
      "source": [
        "# <div dir=\"rtl\">\n",
        "<font face=\"XB Zar\" size=4>\n",
        "    <h1>\n",
        "    <b>پویا‌سازی نمایه (۱۰ نمره)</b>\n",
        "    </h1>\n",
        "    نمایه ایجاد شده باید قابلیت حذف و اضافه تک داکیومنت را داشته باشد.\n",
        "    برای اضافه شدن داکیومنت، به تابع ()add_single_document یک رشته داده می‌شود که اطلاعات مربوط به داکیومنت شامل id و plot و title در آن با کاما جدا شده است. برای حذف داکیومنت نیز id آن به تابع ()remove_single_document داده می‌شود.<br>\n",
        "    تضمین می‌شود که شرط یکتا بودن id داکیومنت‌ها نقض نشود. برای مثال دو داکیومنت با شناسه یکسان به مجموعه اضافه نخواهد شد. البته ممکن است حذف شده و دوباره اضافه شود.\n",
        "</font>\n",
        "</div>"
      ]
    },
    {
      "cell_type": "code",
      "metadata": {
        "id": "wldmRmUqzreP"
      },
      "source": [
        "new_positional_index = positional_index.copy()"
      ],
      "execution_count": 21,
      "outputs": []
    },
    {
      "cell_type": "code",
      "metadata": {
        "id": "e1Ej2n3MB6ef"
      },
      "source": [
        "def add_single_documnet(document):\n",
        "\n",
        "    c1 = document.find(\",\")\n",
        "    movie_id = int(document[:c1])\n",
        "    document = document[c1+1:]\n",
        "    c2 = document.find(\",\")\n",
        "    title_text = document[:c2]\n",
        "    plot_text = document[c2+1:]\n",
        "    title_text = prepare_text(title_text)\n",
        "    plot_text = prepare_text(plot_text)\n",
        "    for j in range(1):\n",
        "        for i in range(len(title_text)):\n",
        "            word = title_text[i]\n",
        "            if(word in new_positional_index):\n",
        "                if(new_positional_index[word][0][-1][0]!=movie_id):\n",
        "                    if(new_positional_index[word][0][-1][0]==None):\n",
        "                        new_positional_index[word][0][-1] = [movie_id, [i]]\n",
        "                    else:\n",
        "                        new_positional_index[word][0].append([movie_id, [i]])\n",
        "                else:\n",
        "                    new_positional_index[word][0][-1][1].append(i)\n",
        "            else:\n",
        "                new_positional_index[word] = [[], []]\n",
        "                new_positional_index[word][0].append([movie_id, [i]])\n",
        "                new_positional_index[word][1].append([None, []])  \n",
        "        for i in range(len(plot_text)):\n",
        "            word = plot_text[i]\n",
        "            if(word in new_positional_index):\n",
        "                if(new_positional_index[word][1][-1][0]!=movie_id):\n",
        "                    if(new_positional_index[word][1][-1][0]==None):\n",
        "                        new_positional_index[word][1][-1] = [movie_id, [i]]\n",
        "                    else:\n",
        "                        new_positional_index[word][1].append([movie_id, [i]])\n",
        "                else:\n",
        "                    new_positional_index[word][1][-1][1].append(i)\n",
        "            else:\n",
        "                new_positional_index[word] = [[], []]\n",
        "                new_positional_index[word][1].append([movie_id, [i]])\n",
        "                new_positional_index[word][0].append([None, []])  \n",
        "\n",
        "    return new_positional_index\n",
        "\n",
        "\n",
        "new_document = \"10000,The Adventures of Sherlock Holmes,The picture begins with Moriarty and Holmes verbally sparring on the steps\"\n",
        "after_adding = add_single_documnet(new_document)\n"
      ],
      "execution_count": 22,
      "outputs": []
    },
    {
      "cell_type": "code",
      "metadata": {
        "colab": {
          "base_uri": "https://localhost:8080/"
        },
        "id": "PiRTwmS00GE2",
        "outputId": "063968e6-add0-479c-a449-b48171970a4b"
      },
      "source": [
        "print(after_adding[\"the\"][0][-1])\n",
        "print(after_adding[\"the\"][1][-1])\n",
        "print(positional_index[\"the\"][1][-1])"
      ],
      "execution_count": 23,
      "outputs": [
        {
          "output_type": "stream",
          "text": [
            "[10000, [0]]\n",
            "[10000, [0, 10]]\n",
            "[10000, [0, 10]]\n"
          ],
          "name": "stdout"
        }
      ]
    },
    {
      "cell_type": "code",
      "metadata": {
        "id": "DsarzVzhDoMi"
      },
      "source": [
        "def remove_signle_document(document_id):\n",
        "\n",
        "    new_words = positional_index.copy()\n",
        "    for x in new_words:\n",
        "        for j in range(len(new_words[x][0])):\n",
        "            if(new_words[x][0][j][0]==document_id):\n",
        "                new_words[x][0].pop(j)\n",
        "                break\n",
        "        for j in range(len(new_words[x][1])):\n",
        "            if(new_words[x][1][j][0]==document_id):\n",
        "                new_words[x][1].pop(j)\n",
        "                break\n",
        "    return new_words\n",
        "\n",
        "after_remove_signle_document=remove_signle_document(10000)"
      ],
      "execution_count": 24,
      "outputs": []
    },
    {
      "cell_type": "code",
      "metadata": {
        "colab": {
          "base_uri": "https://localhost:8080/"
        },
        "id": "6dmVEEmf0diD",
        "outputId": "76912026-0069-4568-a884-8fdc24ee4a0b"
      },
      "source": [
        "print(after_remove_signle_document[\"the\"][0][-1])\n",
        "print(after_remove_signle_document[\"the\"][1][-1])\n",
        "print(positional_index[\"the\"][1][-1])"
      ],
      "execution_count": 25,
      "outputs": [
        {
          "output_type": "stream",
          "text": [
            "[5999, [0]]\n",
            "[6000, [80, 99, 154, 211, 243, 260, 284, 291, 318, 332, 335, 382, 400, 427, 448, 468, 487, 545, 549, 558, 563, 594, 634, 638, 652, 676]]\n",
            "[6000, [80, 99, 154, 211, 243, 260, 284, 291, 318, 332, 335, 382, 400, 427, 448, 468, 487, 545, 549, 558, 563, 594, 634, 638, 652, 676]]\n"
          ],
          "name": "stdout"
        }
      ]
    },
    {
      "cell_type": "markdown",
      "metadata": {
        "id": "4PBbFcmpXFKD"
      },
      "source": [
        "<div dir=\"rtl\">\n",
        "<font face=\"XB Zar\" size=4>\n",
        "    <h1>\n",
        "    <b>ذخیره و فشرده‌سازی نمایه (۲۰ نمره)</b>\n",
        "    </h1>\n",
        "    در این بخش باید توانایی ذخیره کردن نمایه و بارگذاری مجدد آن را به سامانه اضافه کنید. ذخیره‌سازی به ۳ روش صورت می‌گیرد. بدون فشرده‌سازی، فشرده‌سازی از روش gamma-code و فشرده‌سازی از روش variable-byte. روش‌های فشرده‌سازی باید توسط خودتان پیاده‌سازی شود.\n",
        "    برای ذخیره نمایه در فایل نیز از JSON  استفاده کنید.<br>\n",
        "     بخشی از نمره شما در این قسمت به میزان فشرده‌سازی نمایه اختصاص داده شده است. بنابراین پیاده‌سازی بهینه روش‌های فشرده‌سازی مهم است.\n",
        "</font>\n",
        "</div>"
      ]
    },
    {
      "cell_type": "code",
      "metadata": {
        "colab": {
          "base_uri": "https://localhost:8080/"
        },
        "id": "zYN9I4_BD178",
        "outputId": "4a11351f-d214-495e-eb3f-7dc56863cd58"
      },
      "source": [
        "def store_index(path, compression_type):\n",
        "    \"\"\"Stores the index in a file\n",
        "\n",
        "    Parameters\n",
        "    ----------\n",
        "    path : str\n",
        "        Path to store the file\n",
        "\n",
        "    compression_type : str\n",
        "        Could be one of the followings:\n",
        "        - no-compression\n",
        "        - gamma-code\n",
        "        - variable-byte\n",
        "\n",
        "    Returns\n",
        "    -------\n",
        "    int\n",
        "        The size of the stored file\n",
        "    \"\"\"\n",
        "\n",
        "    # TODO: compress and store positional_index\n",
        "    size_of_file = 1024\n",
        "    return size_of_file\n",
        "\n",
        "store_index(\"path/to/file.json\", \"no-compression\")"
      ],
      "execution_count": null,
      "outputs": [
        {
          "output_type": "execute_result",
          "data": {
            "text/plain": [
              "1024"
            ]
          },
          "metadata": {
            "tags": []
          },
          "execution_count": 55
        }
      ]
    },
    {
      "cell_type": "code",
      "metadata": {
        "id": "3Dm38ZXHFQVH"
      },
      "source": [
        "def load_index(path, compression_type):\n",
        "    \"\"\"Loads the index from a file\n",
        "\n",
        "    Parameters\n",
        "    ----------\n",
        "    path : str\n",
        "        Path of the file to load from\n",
        "\n",
        "    compression_type : str\n",
        "        Could be one of the followings:\n",
        "        - no-compression\n",
        "        - gamma-code\n",
        "        - variable-byte\n",
        "    \"\"\"\n",
        "\n",
        "    # TODO: load and decompress positional_index\n",
        "    return\n",
        "\n",
        "load_index(\"path/to/file.json\", \"no-compression\")"
      ],
      "execution_count": null,
      "outputs": []
    },
    {
      "cell_type": "markdown",
      "metadata": {
        "id": "4i-iLvu2nh2k"
      },
      "source": [
        "<div dir=\"rtl\">\n",
        "<font face=\"XB Zar\" size=4>\n",
        "    <h1>\n",
        "    <b>اصلاح پرسمان (۱۵ نمره امتیازی)</b>\n",
        "    </h1>\n",
        "    در صورتی که پرسمان ورودی دارای غلط املایی باشد یا به عبارتی لغاتی از آن در لغت‌نامه موجود نباشد، لازم است که با جستجوی لغت‌های احتمالی و انتخاب بهترین لغت به ادامه‌ی جستجو با پرسمان اصلاح شده پرداخته شود. برای اینکار ابتدا باید با روش bigram و معیار jaccard نزدیک‌ترین لغات به لغت با غلط املایی را پیدا کنید. سپس با استفاده از معیار edit distance بهترین لغت را از میان آن‌ها بیابید.<br>\n",
        "    نیازی به ذخیره‌سازی و فشرده‌سازی نمایه بایگرم نیست. همچنین می‌توانید از کد آماده برای محاسبه edit distance استفاده کنید.\n",
        "</font>\n",
        "</div>"
      ]
    },
    {
      "cell_type": "code",
      "metadata": {
        "id": "qMZTstsbL1G3"
      },
      "source": [
        "def create_bigram_index():\n",
        "    bigram = {}\n",
        "    x = positional_index\n",
        "    for word in x:\n",
        "        if(\"$\"+word[0] in bigram):\n",
        "            bigram[\"$\"+word[0]].append(word)\n",
        "        else:\n",
        "            bigram[\"$\"+word[0]] = [word]\n",
        "        \n",
        "        for i in range(len(word)-1):\n",
        "            if(word[i]+word[i+1] in bigram):\n",
        "                bigram[word[i]+word[i+1]].append(word)\n",
        "            else:\n",
        "                bigram[word[i]+word[i+1]] = [word]\n",
        "        if(word[-1]+\"$\" in bigram):\n",
        "            bigram[word[-1]+\"$\"].append(word)\n",
        "        else:\n",
        "            bigram[word[-1]+\"$\"] = [word]\n",
        "    return bigram\n",
        "\n",
        "bigrams = create_bigram_index()"
      ],
      "execution_count": 138,
      "outputs": []
    },
    {
      "cell_type": "code",
      "metadata": {
        "colab": {
          "base_uri": "https://localhost:8080/"
        },
        "id": "8rC3mpoW1N46",
        "outputId": "12ba90ef-bd84-4cda-b2f2-077a47456e5d"
      },
      "source": [
        "print(bigrams[\"fa\"])"
      ],
      "execution_count": 139,
      "outputs": [
        {
          "output_type": "stream",
          "text": [
            "['famili', 'father', 'farm', 'fall', 'fallen', 'affair', 'face', 'fate', 'grandfath', 'fake', 'fals', 'fay', 'far', 'infant', 'farnum', 'fatal', 'facilit', 'faster', 'famou', 'fanci', 'faint', 'faith', 'faulkner', 'fail', 'fairbank', 'fair', 'fact', 'farmer', 'fatti', 'farrar', 'unfairli', 'fast', 'pitfal', 'favor', 'fast-pac', 'stepfath', 'fathom', 'surfac', 'unfair', 'falsehood', 'unfaith', 'factori', 'dream-affair', 'fanni', 'fame', 'farrel', 'father-in-law', 'waterfal', 'mid-fal', 'godfath', 'challefau', 'breakfast', 'infatu', 'faust', 'fabric', 'fakir', 'farmhous', 'failur', 'manufactur', 'faun', 'rafael', 'fan', 'fawcett', 'fantas', 'fazenda', 'steadfast', 'fade', 'infam', 'fashion', 'farewel', 'lafayett', 'ill-fat', 'blackfac', 'fane', 'favorit', 'resurfac', 'nefari', 'fairli', 'fallier', 'fairchild', 'facial', 'fabul', 'nightfal', 'hoffa', 'fare', 'facad', 'fallon', 'fairfield', 'rafaelo', 'downfal', 'crestfallen', 'fadden', 'farraday', 'farnsbarn', 'fasten', 'fat', 'mayfair', 'fastest', 'faceti', 'fanuel', 'welfar', 'farfetch', 'sofa', 'carfar', 'fast-think', 'fascin', 'satisfact', 'windfal', 'macfarland', 'buffalo', 'benefactor', 'fairground', 'unfamiliar', 'farley', 'stefani', 'fast…', 'farrington', 'farther', 'family-to-b', 'rafaela', 'falin', 'father-and-son', 'famin', 'fault', 'unfaz', 'facil', 'fast-talk', 'faker', 'fancier', 'familiar', 'fatalist', 'macfay', 'mcfay', 'warfar', 'fascism', 'favour', 'falter', 'artifact', 'fairi', \"o'farrel\", \"o'farel\", 'farmhand', 'farmdal', 'self-satisfact', 'faraway', 'fargo', 'fast-mov', 'farnack', 'seafar', 'factor', 'farnsworth', 'scarfac', 'farnsworthi', 'befal', 'faraday', 'infantri', 'moffatt', 'safari', 'falcon', 'halifax', 're-surfac', 'far-fetch', 'famous', 'favor—sh', 'old-fashion', 'fang', 'fanatic', 'falken', 'faction', 'fanfar', 'fanfar', 'farid', 'faro-la', 'faro-li', 'fairfax', 'fairfax', 'fantasi', 'farrelli', 'anti-fascist', 'faculti', 'stefan', 'comedy-fantasi', 'farren', 'near-fat', 'bonifacio', 'fallsworth', 'splitfac', 'fatigu', 'fanat', 'macfarlan', 'faylen', 'fatherli', 'fantast', 'father—th', 'farwood', 'farraugh', 'fabian', 'bonifac', 'mcfarlan', 'moustafa', 'fairley', 'world-fam', 'neo-fascist', 'fallbridg', 'fairway', 'fain', 'fabl', 'farc', 'factual', 'fathead', 'faustino', 'rockfal', \"o'fallon\", 'fabienn', 'fan—who', 'infantryman', 'matter-of-fact', 'father-son', 'falburi', 'familiaris', 'falling-out', 'farucco', 'afar', 'farn', 'mcfarland', 'affabl', 'pratfal', 'farnham', 'tarfa', 'fasken', 'infantrymen—cart', 'farber', 'dogfac', 'fata', 'baby-fac', 'farragut', \"d'affair\", \"o'fair\", 'fade-out', 'lefay', 'faber', 'favourit', 'fail-saf', 'fabray', 'so-far', 'farmland', 'unfavor', 'fast—an', 'fawzia', 'falworth', 'fairweath', 'freckle-fac', 'dog-fac', 'non-fat', 'face-to-fac', 'face-to-fac', 'faze', 'stepfamili', 'disfavor', 'facto', 'fairwood', 'faron', 'farr', 'fadeout', 'fast-draw', 'faro', 'steadfastli', 'faulti', 'femme-fatal', 'battle-fatigu', 'falsifi', 'step-fath', 'faroni', 'farrow', 'germ-warfar', 'raffaella', 'father—for', 'failure—jo', 'fayaway', 'faux', 'fandango', 'newly-fam', 'surface-dwel', 'fancher', 'josefa', 'fallout', 'stefano', 'fairon', 'griffanti', 'fahey', 'falk', 'fast-run', 'pasty-fac', 'profan', 'fabrizio', 'fahrenheit', 'fauna', 'surface—and', 'farelli', 'fantoni', 'great-grandfath', 'fairmont', 'fabar', 'dissatisfact', 'matter-of-factli', 'manufactori', 'fardan', 'satisfactorili', 'fawn', 'faustu', 'califatti', 'fairman', 'ruffalo', 'falconer—i', 'fascist', 'orfamay', 'farrett', 'family—fath', 'family—fath', 'pollifax-spi', 'pollifax', 'facet', 'fakeri', 'faintli', 'playfair', 'playfair/holm', 'fatso', 'fa', 'trafalgar', 'falconhurst', 'many-facet', 'family-friendli', 'fang-fac', 'fang-fac', 'fainter', 'farcic', 'genealogy-fashion', 'bio-warfar', 'farah', 'faintest', 'frankfath', 'farina', 'airfar', 'benefactress', 'carfax', 'faceless', 'facepl', 'satisfactori', 'fairlawn', 'metal-fac', 'face-up', 'belfast-built', 'farentino', 'snowfal', 'infantil', 'grifasi', 'panzerfaust', 'fast-walk', 'fausto', 'fabiani', 'caifano', 'welfare-depend', 'fast-food', 'profanity-lac', 'falafel', 'farter', 'fackler', 'fal-tor-pan', 'fabio', 'falconri', 'fawk', 'full-fac', 'fallada', 'face-off', 'fairton', 'facehugg', 'mcfadden', 'fact-bas', 'fasil', 'fairy—it', 'fairy—approach', 'fakin', 'family—steven', 'leatherfac', 'multi-fac', 'faddish', 'yun-fat', 'father—who', 'angel/favorit', 'fairvil', 'fairval', 'fatu', 'faggot', 'great-great-grandfath', 'tiffani', 'farben', 'farga', 'falwel', 'prefac', 'mustafa', 'unsatisfactori', 'clock-fac', 'jaffar', 'interfac', 'defam', 'screwfac', 'fathers—charlott', 'family—especi', 're-manufactur', 'infal', 'fagan', 'fatherless', 'face-hid', 'once-fam', 'fantasia', 'surface-to-air', 'zipperfac', 'deadfal', 'pfarrer', 'defac', 'fancy-lad', 'favreau', 'faucet', 'falsely-pl', 'green-fac', 'fastbal', 'moffat', 'fadg', 'fails—inject', 'default', 'rastafari', 'fax', 'rastafarian', 'alfa', 'fat-cat', 'jaffa', 'farrakhan', 'truffaut', 'garofalo', 'haifa', 'infami', 'fairuza', 'high-fat', 'famk', 'spacefar', 'face/off', 'fan-bas', 'foster-famili', 'ghostfac', 'faustian', 'belfast', 'fag', 'rainfal', 'breakfast—a', 'fatherhood', 'fa-i', 'chaofa', 'fadlan', 'familiar-look', 'faizon', 'farmiga', 'stefanson', 'peke-fac', 'facinelli', 'falco', 'tripfal', 'farrah', 'far-out', 'faa', 'grandfather—to', 'shefali', 'faton', 'fairytal', 'father-figur', 'out-of-favor', 'doctor-fath', 'swimfan', 'fabbrizio', 'far-right', 'fala', 'faked—a', 'faunia', 'family—becaus', 'face-first', 'fayn', 'failsaf', 'faughnan', 'faison', 'marcus/tiffani', 'fart', 'latifah', 'fari', 'falling-apart-at-the-seam', 'unfabul', 'fach', 'fatwa', 'farabe', 'go-fast', 'faces-off', 'unfatherli', 'sci-fi/fantasi', 'fasulo', 'falburn', 'infanticid', 'cyberwarfar', 'fastidi', 'ulfar', 'fawal', 'fatima', 'fast-spread', 'fashion—until', 'bed-and-breakfast', 'dollfac', 'cast—fad', 'profanity-laden', 'ooq-mi-fay', 'fallaf', 'jenkins-famili', 'fact-find', 're-fashion', 'bobfath', 'dhofar', 'facetim', 'efawadh', 'science-fact', 'farm-rais', 'fantana', 'fallschirmjäg', 'falais', 'facebook', 'fatten', 'faleaka', 'benefactor—corrupt', 'far-away', 'free-fal', 'fanelli', 'factionless', 'farel', 'nffa', 'refashion', 'father/daught', 'father-daught', 'lipstick-fac', 'mandibulofaci']\n"
          ],
          "name": "stdout"
        }
      ]
    },
    {
      "cell_type": "code",
      "metadata": {
        "id": "f0HH3ejKlZB0"
      },
      "source": [
        "def create_bigrams(word):\n",
        "  word_bigrams = []\n",
        "  word_bigrams.append(\"$\"+word[0])\n",
        "  for i in range(len(word)-1):\n",
        "    word_bigrams.append(word[i]+word[i+1])\n",
        "  word_bigrams.append(word[-1]+\"$\")\n",
        "  return word_bigrams\n",
        "def jaccard_similiarity(word1, word2):\n",
        "  word1_bigrams = set(create_bigrams(word1))\n",
        "  word2_bigrams = set(create_bigrams(word2))\n",
        "  intersect = {element for element in word1_bigrams if element in word2_bigrams}\n",
        "  union = set([])\n",
        "  for element in word1_bigrams: \n",
        "    union.add(element)\n",
        "  for element in word2_bigrams: \n",
        "    union.add(element) \n",
        "  return len(intersect)/len(union)"
      ],
      "execution_count": 28,
      "outputs": []
    },
    {
      "cell_type": "code",
      "metadata": {
        "colab": {
          "base_uri": "https://localhost:8080/"
        },
        "id": "MB1a8ba9ooO4",
        "outputId": "14dbc596-eb9a-42de-9a06-4d04633c706d"
      },
      "source": [
        "jaccard_similiarity(\"fall\", \"farm\")"
      ],
      "execution_count": 29,
      "outputs": [
        {
          "output_type": "execute_result",
          "data": {
            "text/plain": [
              "0.25"
            ]
          },
          "metadata": {
            "tags": []
          },
          "execution_count": 29
        }
      ]
    },
    {
      "cell_type": "code",
      "metadata": {
        "colab": {
          "base_uri": "https://localhost:8080/",
          "height": 35
        },
        "id": "H72qpYYwrTlh",
        "outputId": "68ce732f-8a3e-4b67-ddb7-d5370aa909d3"
      },
      "source": [
        "def recommending_word(query_word):\n",
        "    x = positional_index\n",
        "    correction_list = []\n",
        "    for word in x:\n",
        "      if(jaccard_similiarity(word, query_word)>0.25):\n",
        "        correction_list.append(word)\n",
        "    \n",
        "    if(len(correction_list) == 0):\n",
        "      return query_word\n",
        "    else:\n",
        "      min = 1000\n",
        "      ans = query_word\n",
        "      for element in correction_list:\n",
        "        distance = nltk.edit_distance(element, query_word)\n",
        "        if(distance<min):\n",
        "          min = distance\n",
        "          ans = element\n",
        "          \n",
        "    \n",
        "    return ans\n",
        "recommending_word(\"family\")"
      ],
      "execution_count": 68,
      "outputs": [
        {
          "output_type": "execute_result",
          "data": {
            "application/vnd.google.colaboratory.intrinsic+json": {
              "type": "string"
            },
            "text/plain": [
              "'famili'"
            ]
          },
          "metadata": {
            "tags": []
          },
          "execution_count": 68
        }
      ]
    },
    {
      "cell_type": "code",
      "metadata": {
        "colab": {
          "base_uri": "https://localhost:8080/",
          "height": 53
        },
        "id": "sL3E8C-nL1yG",
        "outputId": "e70af7a3-06c3-4b55-f421-88667db27e1b"
      },
      "source": [
        "def get_corrected_text(raw_text):\n",
        "    query = raw_text.split()\n",
        "    ans = recommending_word(query[0])\n",
        "    query.pop(0)\n",
        "    for query_word in query:\n",
        "      recommended_word = recommending_word(query_word)\n",
        "      ans = ans + \" \" + recommended_word\n",
        "    return ans\n",
        "get_corrected_text(\"The film is about a family who move to the suburbs, hoping for a quiet life. Things start to go wrong, and the wife gets violent and starts throwing crockery, leading to her arrest.\")\n"
      ],
      "execution_count": 67,
      "outputs": [
        {
          "output_type": "execute_result",
          "data": {
            "application/vnd.google.colaboratory.intrinsic+json": {
              "type": "string"
            },
            "text/plain": [
              "'the film isn about a famili who move to the suburb hong for a quiet life thing start to go wrong and the wife get violent and start thrown crockeri meaning to her arrest'"
            ]
          },
          "metadata": {
            "tags": []
          },
          "execution_count": 67
        }
      ]
    },
    {
      "cell_type": "markdown",
      "metadata": {
        "id": "-BWhdHJbs1zy"
      },
      "source": [
        "<div dir=\"rtl\">\n",
        "<font face=\"XB Zar\" size=4>\n",
        "    <h1>\n",
        "    <b>جستجو و بازیابی اسناد (۲۵ نمره)</b>\n",
        "    </h1>\n",
        "    در این بخش جستجو ترتیب‌دار در فضای برداری tf-idf به روش <b>lnn-ltn</b> انجام می‌شود. یک پرسمان title و یک پرسمان plot ورودی گرفته شده و هر کدام در بخش مربوطه از اسناد جستجو می‌شوند. امتیاز نهایی هر سند برابر با جمع وزن‌دار امتیاز به دست آمده از جستجو در بخش title و plot است. به این صورت که وزن plot واحد در نظر گرفته شده و وزن تایتل به عنوان ورودی داده می‌شود.<br>\n",
        "    در نهایت اسناد برتر را نمایش دهید. تعداد حداکثر اسناد برتر نیز به عنوان ورودی داده می‌شود.<br><br>\n",
        "    نکته بسیار مهم نحوه نمایش اسناد انتخابی است. برای نمایش هر سند علاوه بر استفاده از شناسه و تیتر، یک هایلایت برای آن درست کنید. به این معنا که کلمات موجود در پرسمان را که باعث انتخاب سند شده‌اند به همراه ۲-۳ ترم قبل و بعد از آن به عنوان هایلایت آن سند نمایش دهید. اینگونه کاربر می‌تواند خیلی سریع دلیل بازیابی اسناد توسط سامانه را متوجه شود. مشابه کاری که سرچ گوگل انجام می‌دهد و ۲-۳ خط مربوطه را زیر وبسایت‌های پیشنهادی نمایش می‌دهد. طبیعتا راه حل بهینه برای این‌کار استفاده از قابلیت‌های نمایه جایگاهی می‌باشد.<br>\n",
        "</font>\n",
        "</div>"
      ]
    },
    {
      "cell_type": "code",
      "metadata": {
        "id": "o2qFqjOR6-E-"
      },
      "source": [
        "def import_docs(filename):\n",
        "    rows = []  \n",
        "    with open(filename, 'r') as csvfile:\n",
        "        csvreader = csv.reader(csvfile)\n",
        "        fields = next(csvreader)\n",
        "        for row in csvreader:\n",
        "            rows.append(row)\n",
        "    return rows\n",
        "rows = import_docs(\"movies.csv\")"
      ],
      "execution_count": 38,
      "outputs": []
    },
    {
      "cell_type": "code",
      "metadata": {
        "colab": {
          "base_uri": "https://localhost:8080/"
        },
        "id": "R0R2i_O4Gev_",
        "outputId": "54f8bbe4-a9f4-4695-f890-d1a1a6e547e5"
      },
      "source": [
        "import math\n",
        "import numpy\n",
        "def create_doc_vector(doc, column, query):\n",
        "    doc_vector = {X:0 for X in doc if(X in query)}\n",
        "    for element in doc_vector:\n",
        "      doc_vector[element] = doc_vector[element] + 1\n",
        "    for element in doc_vector:\n",
        "      doc_vector[element] = 1 + math.log(doc_vector[element])\n",
        "    if(True):\n",
        "      for element in doc_vector:\n",
        "        if(column == 0):\n",
        "          if(element in positional_index):\n",
        "            doc_vector[element] = math.log(6000/len(positional_index[element][0])) * doc_vector[element]\n",
        "          else:\n",
        "            doc_vector[element] = 0\n",
        "        else:\n",
        "          if(element in positional_index):\n",
        "            doc_vector[element] = math.log(6000/len(positional_index[element][1])) * doc_vector[element]\n",
        "          else:\n",
        "            doc_vector[element] = 0\n",
        "    return doc_vector\n",
        "\n",
        "def create_query_vector(doc, column):\n",
        "    query_vector = {X:0 for X in doc}\n",
        "    for element in doc:\n",
        "      query_vector[element] = query_vector[element] + 1\n",
        "    for element in doc:\n",
        "      query_vector[element] = 1 + math.log(query_vector[element])\n",
        "    if(True):\n",
        "      for element in query_vector:\n",
        "        if(column == 0):\n",
        "          if(element in positional_index):\n",
        "            query_vector[element] = len(positional_index[element][0]) * query_vector[element]\n",
        "          else:\n",
        "            query_vector[element] = 0\n",
        "        else:\n",
        "          if(element in positional_index):\n",
        "            query_vector[element] = len(positional_index[element][1]) * query_vector[element]\n",
        "          else:\n",
        "            query_vector[element] = 0\n",
        "    return query_vector\n",
        "\n",
        "def explaining(query, doc, num):\n",
        "    best_words = [None for _ in range(num)]\n",
        "    best_points = [0 for _ in range(num)]\n",
        "    for i in range(len(query)):\n",
        "      for j in range(len(doc)):\n",
        "        if(jaccard_similiarity(query[i], doc[j]) > min(best_points)):\n",
        "          best_points[numpy.argmin(best_points)] = jaccard_similiarity(query[i], doc[j])\n",
        "          best_words[numpy.argmin(best_points)] = doc[j]\n",
        "    best_words_set = []\n",
        "    for element in best_words:\n",
        "      if(element in best_words_set):\n",
        "        continue\n",
        "      else:\n",
        "        best_words_set.append(element)\n",
        "    ans = best_words_set[0]\n",
        "    for i in range(1, len(best_words_set)):\n",
        "      ans = ans + \" \" + best_words_set[i]\n",
        "    return ans\n",
        "\n",
        "def search(title_query, plot_query, title_weight, max_result_count):\n",
        "    title_query = get_corrected_text(title_query)\n",
        "    title_query = title_query.split()\n",
        "    plot_query = get_corrected_text(plot_query)\n",
        "    plot_query = plot_query.split()\n",
        "    \n",
        "    title_vector = create_query_vector(title_query, 0)\n",
        "    plot_vector = create_query_vector(plot_query, 1)\n",
        "\n",
        "    maxes = [0 for _ in range(max_result_count)]\n",
        "    anses = [None for _ in range(max_result_count)]\n",
        "    explains = [None for _ in range(max_result_count)]\n",
        "    for row in rows:\n",
        "\n",
        "      title_doc = row[1]\n",
        "      title_doc = title_doc.split()\n",
        "      plot_doc = row[2]\n",
        "      plot_doc = plot_doc.split() \n",
        "      tDoc = title_doc.copy()\n",
        "      pDoc = plot_doc.copy()\n",
        "\n",
        "      title_doc = create_doc_vector(title_doc, 0, title_query)\n",
        "      plot_doc = create_doc_vector(plot_doc, 1, plot_query)\n",
        "\n",
        "      S1 = 0\n",
        "      S2 = 0\n",
        "\n",
        "      for element in title_doc:\n",
        "        S1 = S1 + title_vector[element]*title_doc[element]\n",
        "      for element in plot_doc:\n",
        "        S2 = S2 + plot_vector[element]*plot_doc[element]\n",
        "\n",
        "      if(S1*title_weight + S2 >= min(maxes)):\n",
        "        index = numpy.argmin(maxes)\n",
        "        maxes[index] = S1*title_weight + S2\n",
        "        anses[index] = row[1]\n",
        "        query = plot_query.copy()\n",
        "        document = pDoc.copy()\n",
        "        for X in title_query:\n",
        "          query.append(X)\n",
        "        for X in tDoc:\n",
        "          document.append(X)\n",
        "        explains[index] = explaining(query, document, 10)\n",
        "\n",
        "    for i in range(max_result_count):\n",
        "      print(i, \": \", anses[i])\n",
        "      print(explains[i])\n",
        "      print(\"\\n\")\n",
        "\n",
        "    #return anses, explains\n",
        "  \n",
        "search(\"the\", \"Girl whith thiroid Caner meet a boy and fall in love with himm. finaly the girl dyes.\", 0, 10)"
      ],
      "execution_count": 140,
      "outputs": [
        {
          "output_type": "stream",
          "text": [
            "0 :  Hold On!\n",
            "a their get meet jet\n",
            "\n",
            "\n",
            "1 :  Girls Just Want to Have Fun\n",
            "a get their all meet\n",
            "\n",
            "\n",
            "2 :  The Red Mill\n",
            "a winner meet will\n",
            "\n",
            "\n",
            "3 :  The Pleasure Seekers\n",
            "a del men meeting\n",
            "\n",
            "\n",
            "4 :  Love Story\n",
            "a meet go, meets\n",
            "\n",
            "\n",
            "5 :  First Time, TheThe First Time\n",
            "a meets met.\n",
            "\n",
            "\n",
            "6 :  Night of the Ghouls\n",
            "a White meet first gets\n",
            "\n",
            "\n",
            "7 :  Heartbeat\n",
            "a go feet another\n",
            "\n",
            "\n",
            "8 :  Problem Child 3: Junior in Love\n",
            "a meets set first;\n",
            "\n",
            "\n",
            "9 :  Baby It's You\n",
            "a moment\n",
            "\n",
            "\n"
          ],
          "name": "stdout"
        }
      ]
    },
    {
      "cell_type": "markdown",
      "metadata": {
        "id": "gBig369C6wSC"
      },
      "source": [
        "<div dir=\"rtl\">\n",
        "<font face=\"XB Zar\" size=4>\n",
        "    <h1>\n",
        "    <b>ارزیابی عملکرد سامانه (۱۰ نمره)</b>\n",
        "    </h1>\n",
        "    همانطور که در بخش مربوط به مجموعه دادگان گفته شد، تعدادی پرسمان نمونه به همراه اسناد مورد نظر برای آن‌ها در اختیار شما قرار گرفته است. در هر مورد اطلاعات لازم برای ایجاد یک پرسمان ذکر شده است. مطابق آن‌ها پرسمان خود را ایجاد کنید. نتایج به دست آمده از هر پرسمان را به عنوان predicted results آن پرسمان در نظر بگیرید. همچنین در هر مورد لیستی از شناسه‌ها وجود دارد. این لیست را به عنوان actual results در نظر بگیرید. <br>\n",
        "    معیار‌های زیر را پیاده‌سازی کنید (بدون استفاده از کد آماده) و نتیجه این معیارها را روی مجموعه‌ی actual و predicted گزارش کنید. دقت کنید که به ازای هر پرسمان باید تمام معیارها را در قالب یک جدول گزارش کنید.<br> دقت کنید که ۳ پرسمان آخر فقط برای افرادی که بخش spell correction را پیاده کرد‌ه‌اند نتیجه مطلوب دارد.\n",
        "</font>\n",
        "</div>"
      ]
    },
    {
      "cell_type": "code",
      "metadata": {
        "colab": {
          "base_uri": "https://localhost:8080/"
        },
        "id": "aPfEVezQIsmb",
        "outputId": "db5a8983-376d-491d-94c9-f2e9a8f121e4"
      },
      "source": [
        "def precision(actual, predicted):\n",
        "    B = len(predicted)\n",
        "    A = 0\n",
        "    for element in predicted:\n",
        "      if element in actual:\n",
        "        A = A + 1\n",
        "    return A / B\n",
        "\n",
        "precision([1,2], [1, 4, 5])"
      ],
      "execution_count": 123,
      "outputs": [
        {
          "output_type": "execute_result",
          "data": {
            "text/plain": [
              "0.3333333333333333"
            ]
          },
          "metadata": {
            "tags": []
          },
          "execution_count": 123
        }
      ]
    },
    {
      "cell_type": "code",
      "metadata": {
        "colab": {
          "base_uri": "https://localhost:8080/"
        },
        "id": "is4nfSw1LQoQ",
        "outputId": "5516f0c2-7eba-465c-cf76-f6fa9006b174"
      },
      "source": [
        "def recall(actual, predicted):\n",
        "    B = len(actual)\n",
        "    A = 0\n",
        "    for element in predicted:\n",
        "      if element in actual:\n",
        "        A = A + 1\n",
        "    return A / B\n",
        "\n",
        "recall([1,2], [1, 4, 5])"
      ],
      "execution_count": 141,
      "outputs": [
        {
          "output_type": "execute_result",
          "data": {
            "text/plain": [
              "0.5"
            ]
          },
          "metadata": {
            "tags": []
          },
          "execution_count": 141
        }
      ]
    },
    {
      "cell_type": "code",
      "metadata": {
        "colab": {
          "base_uri": "https://localhost:8080/"
        },
        "id": "eYHYwRgTLVRA",
        "outputId": "b64edd90-e2ee-4ce5-d124-fb4e38214210"
      },
      "source": [
        "def f1_score(actual, predicted):\n",
        "    B = precision(actual, predicted) + recall(actual, predicted)\n",
        "    if B == 0:\n",
        "      return 0\n",
        "    f1_score = 2 * precision(actual, predicted) * recall(actual, predicted)/(precision(actual, predicted) + recall(actual, predicted))\n",
        "    return f1_score\n",
        "\n",
        "f1_score([1,2], [1, 4, 5])"
      ],
      "execution_count": 128,
      "outputs": [
        {
          "output_type": "execute_result",
          "data": {
            "text/plain": [
              "0.4"
            ]
          },
          "metadata": {
            "tags": []
          },
          "execution_count": 128
        }
      ]
    },
    {
      "cell_type": "code",
      "metadata": {
        "colab": {
          "base_uri": "https://localhost:8080/"
        },
        "id": "bZg-_PUPLZ31",
        "outputId": "4e06723f-e1d9-47f3-e6ab-4a7a193b924f"
      },
      "source": [
        "def map_score(actual, predicted):\n",
        "    sum = 0\n",
        "    total = 0\n",
        "    for i in range(len(predicted)):\n",
        "      if predicted[i] in actual:\n",
        "        sum += 1\n",
        "        total += sum/(i + 1)\n",
        "    map_score = total/len(predicted)\n",
        "    return map_score\n",
        "\n",
        "map_score([1,2], [1, 4, 5])"
      ],
      "execution_count": 132,
      "outputs": [
        {
          "output_type": "execute_result",
          "data": {
            "text/plain": [
              "0.3333333333333333"
            ]
          },
          "metadata": {
            "tags": []
          },
          "execution_count": 132
        }
      ]
    },
    {
      "cell_type": "code",
      "metadata": {
        "colab": {
          "base_uri": "https://localhost:8080/"
        },
        "id": "OgOKEbMNLf-r",
        "outputId": "03ac255f-c06f-43fd-e0a2-be63bc35e7d0"
      },
      "source": [
        "import numpy\n",
        "def dcg_score (y_true, y_score):\n",
        "    order = numpy.argsort (y_score) [::-1]\n",
        "    gains = y_true\n",
        "    discounts = numpy.log2 (numpy.arange (len (y_true)) + 2)\n",
        "    return numpy.sum (gains / discounts)\n",
        "\n",
        "def ndcg_score(actual, predicted):\n",
        "    best_dcg = dcg_score (actual, actual)\n",
        "    actual_dcg = dcg_score (actual, predicted)\n",
        "    return actual_dcg / best_dcg\n",
        "\n",
        "ndcg_score([1,2], [1, 4, 5])"
      ],
      "execution_count": 135,
      "outputs": [
        {
          "output_type": "execute_result",
          "data": {
            "text/plain": [
              "1.0"
            ]
          },
          "metadata": {
            "tags": []
          },
          "execution_count": 135
        }
      ]
    },
    {
      "cell_type": "markdown",
      "metadata": {
        "id": "SHVlw0kVBUW4"
      },
      "source": [
        "<div dir=\"rtl\">\n",
        "<font face=\"XB Zar\" size=4>\n",
        "    <h1>\n",
        "    <b>نکات پایانی</b>\n",
        "    </h1>\n",
        "    \n",
        "\n",
        "1.   سیستم را بهینه پیاده‌سازی کنید تا در زمان کمتری بارگذاری و نمایه‌سازی  انجام شود.\n",
        "2.   تمام قطعه‌ کدهای بالا باید توسط شما تکمیل شود. نوت‌بوک نهایی باید بدون خطا اجرا شود. اگر تمام کدهای استفاده شده در همین فایل نیست،‌ حتما آن‌ها را نیز به همراه نوت‌بوک در کوئرا آپلود کنید.\n",
        "3.    اسم توابع و نحوه ورودی گرفتن و خروجی دادن آن‌ها را تغییر ندهید. بقیه اجزای توابع صرفا برای شهود بیشتر شما نوشته شده‌اند و نیازی به نگه‌داری آن‌ها نیست.\n",
        "4.   در صورت امکان استفاده از کد آماده مشخصا این مورد برای بخش مربوطه ذکر شده است. اگر چیزی در این مورد ذکر نشده نمی‌توانید از کد آماده استفاده کنید.\n",
        "5.    فایل داده‌ها را در کوئرا آپلود نکنید.\n",
        "6.    فایل زیپ نهایی و فایل نوت‌بوک حتما به فرمت StudentNumber_phase1 نامگذاری شود.\n",
        "\n",
        "\n",
        "<b>سالم و موفق باشید.</b>\n",
        "\n",
        "</font>\n",
        "</div>"
      ]
    }
  ]
}